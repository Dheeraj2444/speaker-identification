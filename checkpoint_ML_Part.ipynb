{
 "cells": [
  {
   "cell_type": "code",
   "execution_count": 17,
   "metadata": {
    "colab": {},
    "colab_type": "code",
    "id": "nGtVStKtv6LT"
   },
   "outputs": [],
   "source": [
    "from utils import *\n",
    "from network import *"
   ]
  },
  {
   "cell_type": "code",
   "execution_count": 2,
   "metadata": {
    "colab": {
     "base_uri": "https://localhost:8080/",
     "height": 34
    },
    "colab_type": "code",
    "executionInfo": {
     "elapsed": 482,
     "status": "ok",
     "timestamp": 1544254414995,
     "user": {
      "displayName": "Dheeraj Singh",
      "photoUrl": "",
      "userId": "06164132303714013558"
     },
     "user_tz": 300
    },
    "id": "i6aZ0NykBT70",
    "outputId": "3db40605-7df9-4bc2-c846-a6cec2593d0a"
   },
   "outputs": [
    {
     "name": "stdout",
     "output_type": "stream",
     "text": [
      "cuda:0\n"
     ]
    }
   ],
   "source": [
    "device = torch.device(\"cuda:0\" if torch.cuda.is_available() else \"cpu\")\n",
    "print(device)"
   ]
  },
  {
   "cell_type": "code",
   "execution_count": 4,
   "metadata": {
    "colab": {
     "base_uri": "https://localhost:8080/",
     "height": 170
    },
    "colab_type": "code",
    "executionInfo": {
     "elapsed": 5539,
     "status": "ok",
     "timestamp": 1544254422386,
     "user": {
      "displayName": "Dheeraj Singh",
      "photoUrl": "",
      "userId": "06164132303714013558"
     },
     "user_tz": 300
    },
    "id": "1swM4U97IAeK",
    "outputId": "7ed0e7c0-35be-48bf-a03d-e27b2dad750d"
   },
   "outputs": [],
   "source": [
    "weights = load_pretrained_weights()"
   ]
  },
  {
   "cell_type": "code",
   "execution_count": 5,
   "metadata": {
    "colab": {
     "base_uri": "https://localhost:8080/",
     "height": 34
    },
    "colab_type": "code",
    "executionInfo": {
     "elapsed": 20838,
     "status": "ok",
     "timestamp": 1544254454833,
     "user": {
      "displayName": "Dheeraj Singh",
      "photoUrl": "",
      "userId": "06164132303714013558"
     },
     "user_tz": 300
    },
    "id": "lIKadKjFDTgx",
    "outputId": "37b92856-b186-4a15-e73b-da6ac8fc6203"
   },
   "outputs": [
    {
     "name": "stdout",
     "output_type": "stream",
     "text": [
      "3200 training samples 80\n"
     ]
    }
   ],
   "source": [
    "voxceleb_dataset = VoxCelebDataset(PAIRS_FILE)\n",
    "train_dataloader = DataLoader(voxceleb_dataset, batch_size=BATCH_SIZE, shuffle=True, \n",
    "                              num_workers=4)\n",
    "\n",
    "print(len(voxceleb_dataset), \"training samples\", len(voxceleb_dataset.training_users))\n",
    "# print(voxceleb_dataset.all_user_ids)"
   ]
  },
  {
   "cell_type": "code",
   "execution_count": 6,
   "metadata": {
    "colab": {},
    "colab_type": "code",
    "id": "coB4oXXDIOqp"
   },
   "outputs": [],
   "source": [
    "model = VggVox(weights=weights)\n",
    "model = model.to(device)"
   ]
  },
  {
   "cell_type": "code",
   "execution_count": 7,
   "metadata": {
    "colab": {},
    "colab_type": "code",
    "id": "ZnjSEjKOwjGV"
   },
   "outputs": [],
   "source": [
    "criterion = ContrastiveLoss()\n",
    "# criterion = criterion.to(device) "
   ]
  },
  {
   "cell_type": "code",
   "execution_count": 8,
   "metadata": {
    "colab": {},
    "colab_type": "code",
    "id": "sDMrogyLwjGY"
   },
   "outputs": [],
   "source": [
    "optimizer = optim.Adam(model.parameters(), lr=LEARNING_RATE)"
   ]
  },
  {
   "cell_type": "code",
   "execution_count": 9,
   "metadata": {
    "colab": {},
    "colab_type": "code",
    "id": "OUQYaOUjwjGb"
   },
   "outputs": [],
   "source": [
    "loss_list = []"
   ]
  },
  {
   "cell_type": "code",
   "execution_count": 10,
   "metadata": {
    "colab": {},
    "colab_type": "code",
    "id": "I0wdqekMM7QX"
   },
   "outputs": [],
   "source": [
    "def load_saved_model(fname, test=True):\n",
    "    device = torch.device(\"cuda:0\" if torch.cuda.is_available() else \"cpu\")\n",
    "    new_model_dict = VggVox()\n",
    "    checkpoint_path = get_rel_path(os.path.join(CHECKPOINTS_FOLDER, fname))\n",
    "    checkpoint = torch.load(checkpoint_path)\n",
    "\n",
    "    new_model_dict.load_state_dict(checkpoint['state_dict'])\n",
    "    if test:\n",
    "        model = new_model_dict.eval()\n",
    "    model = model.to(device)\n",
    "\n",
    "    new_optimizer = optim.Adam(params=model.parameters())\n",
    "    new_optimizer.load_state_dict(checkpoint['optim_dict'])\n",
    "    epoch = checkpoint['epoch']\n",
    "\n",
    "    return model, new_model_dict, new_optimizer"
   ]
  },
  {
   "cell_type": "code",
   "execution_count": 11,
   "metadata": {
    "colab": {
     "base_uri": "https://localhost:8080/",
     "height": 329
    },
    "colab_type": "code",
    "executionInfo": {
     "elapsed": 635,
     "status": "ok",
     "timestamp": 1544211970472,
     "user": {
      "displayName": "Arnav Arnav",
      "photoUrl": "",
      "userId": "13167590773773544591"
     },
     "user_tz": 300
    },
    "id": "ey2aRNEkDVbY",
    "outputId": "41b5c2bf-ea7b-48c9-e24c-81d91e1508a3"
   },
   "outputs": [
    {
     "name": "stdout",
     "output_type": "stream",
     "text": [
      "checkpoint_20181208-081759_0.14750675857067108.pth.tar\n",
      "checkpoint_20181208-084522_0.00958214234560728.pth.tar\n",
      "checkpoint_20181208-090431_0.007160770706832409.pth.tar\n",
      "checkpoint_20181208-082002_0.025060191750526428.pth.tar\n",
      "checkpoint_20181208-082817_0.014348131604492664.pth.tar\n",
      "checkpoint_20181208-083429_0.0120355524122715.pth.tar\n",
      "checkpoint_20181208-090227_0.007458028383553028.pth.tar\n",
      "checkpoint_20181208-082206_0.020651986822485924.pth.tar\n",
      "checkpoint_20181208-083632_0.011468329466879368.pth.tar\n",
      "checkpoint_20181208-082410_0.018174389377236366.pth.tar\n",
      "checkpoint_20181208-091042_0.006960536353290081.pth.tar\n",
      "checkpoint_20181208-091653_0.006890598684549332.pth.tar\n",
      "checkpoint_20181208-085412_0.00839352235198021.pth.tar\n",
      "checkpoint_20181208-084801_0.009026485495269299.pth.tar\n",
      "checkpoint_20181208-085005_0.008921545930206776.pth.tar\n",
      "checkpoint_20181208-085820_0.008216631598770618.pth.tar\n",
      "checkpoint_20181208-083225_0.012516533955931664.pth.tar\n",
      "checkpoint_20181208-083021_0.013070221990346909.pth.tar\n",
      "checkpoint_20181208-085208_0.008505691774189472.pth.tar\n",
      "checkpoint_20181208-090023_0.007825605571269989.pth.tar\n",
      "checkpoint_20181208-082613_0.015742819756269455.pth.tar\n",
      "checkpoint_20181208-083836_0.010292409919202328.pth.tar\n"
     ]
    }
   ],
   "source": [
    "checkpoints = os.listdir(get_rel_path('checkpoints/'))\n",
    "print(\"\\n\".join(checkpoints))"
   ]
  },
  {
   "cell_type": "code",
   "execution_count": 13,
   "metadata": {
    "colab": {},
    "colab_type": "code",
    "id": "tpVdvZ4DX604"
   },
   "outputs": [],
   "source": [
    "test_model ,_, _ = load_saved_model('checkpoint_20181208-090431_0.007160770706832409.pth.tar')"
   ]
  },
  {
   "cell_type": "markdown",
   "metadata": {
    "colab_type": "text",
    "id": "aw7pM5zYybK5"
   },
   "source": [
    "### for each user ID get mean embedding "
   ]
  },
  {
   "cell_type": "code",
   "execution_count": 14,
   "metadata": {
    "colab": {},
    "colab_type": "code",
    "id": "ZFiIpa-ZIo5d"
   },
   "outputs": [],
   "source": [
    "class VoxCelebTestDataset(Dataset):\n",
    "    \n",
    "    def __init__(self, pairs_fname,  training_users, n_users=5, clips_per_user=5):\n",
    "        pairs_file = pd.read_csv(get_rel_path(pairs_fname))\n",
    "#         pairs_file['user1'] = pairs_file['path1'].apply(lambda x: x[x.find('/')+1: x.find('_')])\n",
    "        \n",
    "        user_subset = pairs_file[pairs_file.user1.isin(training_users)]\n",
    "        self.test_users =  user_subset.user1.unique()#[:n_users]\n",
    "        self.spec = user_subset[user_subset.user1.isin(self.test_users)]\n",
    "        \n",
    "        self.spec = self.spec.drop_duplicates(subset = ['path1'])[['user1', 'path1']].values  \n",
    "#         assert len(np.unique((self.spec[:,0]))) == n_users\n",
    "\n",
    "    def __len__(self):\n",
    "        return len(self.spec)\n",
    "\n",
    "    def __getitem__(self, idx):\n",
    "        spec1_path = get_rel_path(self.spec[idx][1])\n",
    "        user_id = self.spec[idx][0]\n",
    "        \n",
    "        spec1 = np.load(spec1_path)\n",
    "        \n",
    "        sample = {'spec': spec1, 'user_id': user_id}\n",
    "\n",
    "        return sample"
   ]
  },
  {
   "cell_type": "code",
   "execution_count": 15,
   "metadata": {
    "colab": {
     "base_uri": "https://localhost:8080/",
     "height": 238
    },
    "colab_type": "code",
    "executionInfo": {
     "elapsed": 7248,
     "status": "ok",
     "timestamp": 1544254584552,
     "user": {
      "displayName": "Dheeraj Singh",
      "photoUrl": "",
      "userId": "06164132303714013558"
     },
     "user_tz": 300
    },
    "id": "p1at4Z1_6tXP",
    "outputId": "89c7973e-dd53-4a26-b782-296ffb8637ba"
   },
   "outputs": [
    {
     "name": "stdout",
     "output_type": "stream",
     "text": [
      "800 test samples\n",
      "['id10076' 'id10073' 'id10079' 'id10071' 'id10075' 'id10077' 'id10074'\n",
      " 'id10080' 'id10072' 'id10078' 'id10065' 'id10061' 'id10063' 'id10068'\n",
      " 'id10062' 'id10069' 'id10070' 'id10066' 'id10064' 'id10067' 'id10058'\n",
      " 'id10053' 'id10059' 'id10056' 'id10057' 'id10052' 'id10055' 'id10060'\n",
      " 'id10051' 'id10054' 'id10050' 'id10041' 'id10043' 'id10045' 'id10042'\n",
      " 'id10049' 'id10046' 'id10047' 'id10044' 'id10048' 'id10040' 'id10038'\n",
      " 'id10037' 'id10033' 'id10034' 'id10039' 'id10035' 'id10036' 'id10032'\n",
      " 'id10031' 'id10025' 'id10027' 'id10021' 'id10028' 'id10030' 'id10023'\n",
      " 'id10029' 'id10022' 'id10026' 'id10024' 'id10019' 'id10020' 'id10015'\n",
      " 'id10011' 'id10012' 'id10017' 'id10014' 'id10018' 'id10016' 'id10013'\n",
      " 'id10004' 'id10007' 'id10010' 'id10001' 'id10008' 'id10006' 'id10009'\n",
      " 'id10002' 'id10003' 'id10005']\n"
     ]
    }
   ],
   "source": [
    "test_batch_size = 1\n",
    "training_users = voxceleb_dataset.training_users\n",
    "voxceleb_test_dataset = VoxCelebTestDataset(PAIRS_FILE,training_users, clips_per_user = 5, n_users = 10)\n",
    "test_dataloader = DataLoader(voxceleb_test_dataset, batch_size=test_batch_size, shuffle=False, \n",
    "                              num_workers=1)\n",
    "\n",
    "print(len(voxceleb_test_dataset), \"test samples\")\n",
    "print(voxceleb_test_dataset.test_users)"
   ]
  },
  {
   "cell_type": "code",
   "execution_count": 18,
   "metadata": {
    "colab": {},
    "colab_type": "code",
    "id": "F-83vP6uX7jF"
   },
   "outputs": [],
   "source": [
    "def get_user_model(voxceleb_test_dataset = voxceleb_test_dataset):\n",
    "    user_dict = OrderedDict()\n",
    "\n",
    "    for i, data in enumerate(voxceleb_test_dataset):\n",
    "        spec, user_id = data['spec'], data['user_id']\n",
    "        spec = torch.tensor(spec)\n",
    "        spec = spec.view(test_batch_size, 1, spec.shape[0], spec.shape[1])\n",
    "        spec = spec.to(device)\n",
    "        out = test_model.forward_single(spec)\n",
    "        out = out.view(out.shape[0], out.shape[1])\n",
    "\n",
    "        if user_dict.get(user_id, None) is not None:\n",
    "              user_dict[user_id].append(out.detach().cpu().numpy())\n",
    "    \n",
    "        else:\n",
    "              user_dict[user_id] = [out.detach().cpu().numpy()]\n",
    "\n",
    "    print(\"total :\", i+1)\n",
    "    mean_dict = {}\n",
    "    for user_id, emb_list  in user_dict.items():\n",
    "        emb_list = np.array(emb_list)\n",
    "        mean_emb = np.mean(emb_list, axis = 0)\n",
    "        mean_dict[user_id] = mean_emb\n",
    "\n",
    "    return user_dict, mean_dict"
   ]
  },
  {
   "cell_type": "code",
   "execution_count": 19,
   "metadata": {
    "colab": {
     "base_uri": "https://localhost:8080/",
     "height": 34
    },
    "colab_type": "code",
    "executionInfo": {
     "elapsed": 625350,
     "status": "ok",
     "timestamp": 1544249428396,
     "user": {
      "displayName": "Dheeraj Singh",
      "photoUrl": "",
      "userId": "06164132303714013558"
     },
     "user_tz": 300
    },
    "id": "wmodI2GLRsHP",
    "outputId": "141f1d37-4bcd-4d5b-806b-b94b100fc9b2"
   },
   "outputs": [
    {
     "name": "stdout",
     "output_type": "stream",
     "text": [
      "total : 800\n"
     ]
    }
   ],
   "source": [
    "user_dict, mean_dict = get_user_model()\n",
    "# dict2 = {k: v.shape for k, v in mean_dict.items()}\n",
    "# print(dict2)\n",
    "# s = 0\n",
    "# for k, v in user_dict.items():\n",
    "#     s += len(v)\n",
    "# print(s)"
   ]
  },
  {
   "cell_type": "code",
   "execution_count": 51,
   "metadata": {
    "colab": {},
    "colab_type": "code",
    "id": "meLscfIkT23D"
   },
   "outputs": [],
   "source": [
    "# print(np.array(user_dict['id10076']).shape)\n",
    "# t = np.array(user_dict['id10076'])\n",
    "# t = t.mean(axis = 0)\n",
    "# t.shape"
   ]
  },
  {
   "cell_type": "markdown",
   "metadata": {
    "colab_type": "text",
    "id": "GAhr86qqU9Rh"
   },
   "source": [
    "###  T-sne"
   ]
  },
  {
   "cell_type": "code",
   "execution_count": 20,
   "metadata": {
    "colab": {
     "base_uri": "https://localhost:8080/",
     "height": 51
    },
    "colab_type": "code",
    "executionInfo": {
     "elapsed": 605,
     "status": "ok",
     "timestamp": 1544249436278,
     "user": {
      "displayName": "Dheeraj Singh",
      "photoUrl": "",
      "userId": "06164132303714013558"
     },
     "user_tz": 300
    },
    "id": "DyMcf1aPVPk2",
    "outputId": "aa2c112e-0cba-4bbc-f812-372c559a32ea"
   },
   "outputs": [
    {
     "name": "stdout",
     "output_type": "stream",
     "text": [
      "(800, 1024)\n",
      "800\n"
     ]
    }
   ],
   "source": [
    "from sklearn.manifold import TSNE\n",
    "\n",
    "data_list =[]\n",
    "user_list = []\n",
    "mean_list = []\n",
    "counts = 0\n",
    "user = 0\n",
    "for user_id, li in user_dict.items():\n",
    "    user += 1\n",
    "    for arr in li:\n",
    "        data_list.append(arr)\n",
    "        user_list.append(user)\n",
    "        counts += 1\n",
    "    mean_list.append(mean_dict[user_id])\n",
    "    \n",
    "mean_data = np.vstack(mean_list)\n",
    "data = np.vstack(data_list)\n",
    "print(data.shape)\n",
    "print(counts)\n",
    "\n"
   ]
  },
  {
   "cell_type": "code",
   "execution_count": 21,
   "metadata": {
    "colab": {
     "base_uri": "https://localhost:8080/",
     "height": 366
    },
    "colab_type": "code",
    "executionInfo": {
     "elapsed": 534,
     "status": "ok",
     "timestamp": 1544249441652,
     "user": {
      "displayName": "Dheeraj Singh",
      "photoUrl": "",
      "userId": "06164132303714013558"
     },
     "user_tz": 300
    },
    "id": "dNJJ_egIes4D",
    "outputId": "286c71f2-e416-4336-d610-72b22fd574de"
   },
   "outputs": [
    {
     "data": {
      "text/plain": [
       "<matplotlib.image.AxesImage at 0x7f23870aef98>"
      ]
     },
     "execution_count": 21,
     "metadata": {},
     "output_type": "execute_result"
    },
    {
     "data": {
      "image/png": "[encoded data removed]",
      "text/plain": [
       "<Figure size 432x288 with 1 Axes>"
      ]
     },
     "metadata": {
      "needs_background": "light"
     },
     "output_type": "display_data"
    }
   ],
   "source": [
    "plt.imshow(mean_data, aspect='auto', cmap='jet')"
   ]
  },
  {
   "cell_type": "code",
   "execution_count": 32,
   "metadata": {
    "colab": {
     "base_uri": "https://localhost:8080/",
     "height": 401
    },
    "colab_type": "code",
    "executionInfo": {
     "elapsed": 17421,
     "status": "ok",
     "timestamp": 1544250447371,
     "user": {
      "displayName": "Dheeraj Singh",
      "photoUrl": "",
      "userId": "06164132303714013558"
     },
     "user_tz": 300
    },
    "id": "oNBwUUxSbCqt",
    "outputId": "e9831afb-a009-4b99-eeb6-9815151631ab"
   },
   "outputs": [
    {
     "data": {
      "image/png": "[encoded data removed]",
      "text/plain": [
       "<Figure size 432x288 with 1 Axes>"
      ]
     },
     "metadata": {
      "needs_background": "light"
     },
     "output_type": "display_data"
    }
   ],
   "source": [
    "tsne = TSNE(n_components = 2, perplexity = 25)\n",
    "tsne_embedding = tsne.fit_transform(data)\n",
    "\n",
    "plt.scatter(x= tsne_embedding[:,0], y = tsne_embedding[:, 1], c = user_list, cmap='jet', alpha = 0.6)#tsne_embedding\n",
    "plt.tight_layout()"
   ]
  },
  {
   "cell_type": "code",
   "execution_count": 33,
   "metadata": {
    "colab_type": "text",
    "id": "WS8CdSDO8O-f"
   },
   "outputs": [],
   "source": [
    "from mpl_toolkits.mplot3d import Axes3D\n",
    "\n",
    "fig = plt.figure()\n",
    "ax = fig.add_subplot(111, projection='3d')\n",
    "ax.scatter(x= tsne_embedding[:,0], y = tsne_embedding[:, 1], )"
   ]
  },
  {
   "cell_type": "code",
   "execution_count": null,
   "metadata": {},
   "outputs": [],
   "source": []
  },
  {
   "cell_type": "code",
   "execution_count": null,
   "metadata": {},
   "outputs": [],
   "source": []
  },
  {
   "cell_type": "code",
   "execution_count": null,
   "metadata": {},
   "outputs": [],
   "source": []
  },
  {
   "cell_type": "code",
   "execution_count": null,
   "metadata": {},
   "outputs": [],
   "source": []
  },
  {
   "cell_type": "code",
   "execution_count": null,
   "metadata": {},
   "outputs": [],
   "source": []
  },
  {
   "cell_type": "markdown",
   "metadata": {},
   "source": [
    "### test phase"
   ]
  },
  {
   "cell_type": "code",
   "execution_count": null,
   "metadata": {},
   "outputs": [],
   "source": [
    "plt.savefig('')"
   ]
  },
  {
   "cell_type": "code",
   "execution_count": 29,
   "metadata": {
    "colab": {},
    "colab_type": "code",
    "id": "Roij1PUrjj08"
   },
   "outputs": [],
   "source": [
    "from sklearn.metrics.pairwise import cosine_similarity "
   ]
  },
  {
   "cell_type": "code",
   "execution_count": 30,
   "metadata": {
    "colab": {},
    "colab_type": "code",
    "id": "0F3iPLaSkBkL"
   },
   "outputs": [],
   "source": [
    "def get_cosine_similarity(mat1, mat2):\n",
    "#     mat1 = mat1.cpu().detach().numpy() \n",
    "#     mat2 = mat2.cpu().detach().numpy() \n",
    "    return cosine_similarity(mat1, mat2)"
   ]
  },
  {
   "cell_type": "code",
   "execution_count": 31,
   "metadata": {
    "colab": {},
    "colab_type": "code",
    "id": "fitaDmRDa2EO"
   },
   "outputs": [],
   "source": [
    "def get_accuracy(test_dataset, mean_data):\n",
    "\n",
    "    test_user_embeddings, _ = get_user_model(test_dataset)\n",
    "    correct, incorrect = 0, 0\n",
    "    \n",
    "    for i,j in enumerate(test_user_embeddings):\n",
    "        user_emb_i = np.vstack(test_user_embeddings[j])\n",
    "        cosine_similarity = get_cosine_similarity(mean_data, user_emb_i)\n",
    "        pred = np.argmax(cosine_similarity, axis=1)\n",
    "        correct_i = (pred==i).sum()\n",
    "        correct += correct_i\n",
    "        incorrect += (user_emb_i.shape[0] - correct_i)\n",
    "    \n",
    "    print(correct, incorrect)\n",
    "    \n",
    "    return correct / (correct + incorrect)   "
   ]
  },
  {
   "cell_type": "code",
   "execution_count": 32,
   "metadata": {
    "colab": {
     "base_uri": "https://localhost:8080/",
     "height": 68
    },
    "colab_type": "code",
    "executionInfo": {
     "elapsed": 303372,
     "status": "ok",
     "timestamp": 1544249807142,
     "user": {
      "displayName": "Dheeraj Singh",
      "photoUrl": "",
      "userId": "06164132303714013558"
     },
     "user_tz": 300
    },
    "id": "dgoJ7E9sa26E",
    "outputId": "e13311f9-1d6c-42f4-9dca-8982cffed11d"
   },
   "outputs": [
    {
     "name": "stdout",
     "output_type": "stream",
     "text": [
      "total : 800\n",
      "14 786\n"
     ]
    },
    {
     "data": {
      "text/plain": [
       "0.0175"
      ]
     },
     "execution_count": 32,
     "metadata": {},
     "output_type": "execute_result"
    }
   ],
   "source": [
    "get_accuracy(voxceleb_test_dataset, mean_data)"
   ]
  },
  {
   "cell_type": "code",
   "execution_count": 35,
   "metadata": {
    "colab": {},
    "colab_type": "code",
    "id": "9nE4qj8QSYDD"
   },
   "outputs": [],
   "source": [
    "# get pairs test data, \n",
    "test_pairs_file = 'pairs.csv'\n",
    "voxceleb_test_pairs_dataset = VoxCelebDataset(test_pairs_file)\n",
    "\n",
    "criterion = ContrastiveLoss()\n",
    "criterion = criterion.to(device) "
   ]
  },
  {
   "cell_type": "code",
   "execution_count": 36,
   "metadata": {
    "colab": {
     "base_uri": "https://localhost:8080/",
     "height": 255
    },
    "colab_type": "code",
    "executionInfo": {
     "elapsed": 1478,
     "status": "ok",
     "timestamp": 1544257056026,
     "user": {
      "displayName": "Dheeraj Singh",
      "photoUrl": "",
      "userId": "06164132303714013558"
     },
     "user_tz": 300
    },
    "id": "MlCDfUsbeBEL",
    "outputId": "b1244e10-e2a0-4838-ee78-89fda642ccde"
   },
   "outputs": [
    {
     "name": "stdout",
     "output_type": "stream",
     "text": [
      "0 5.778176784515381 0\n"
     ]
    },
    {
     "ename": "RuntimeError",
     "evalue": "CUDA error: out of memory",
     "output_type": "error",
     "traceback": [
      "\u001b[0;31m---------------------------------------------------------------------------\u001b[0m",
      "\u001b[0;31mRuntimeError\u001b[0m                              Traceback (most recent call last)",
      "\u001b[0;32m<ipython-input-36-bd0020e23f72>\u001b[0m in \u001b[0;36m<module>\u001b[0;34m\u001b[0m\n\u001b[1;32m     12\u001b[0m     \u001b[0mmfcc2\u001b[0m \u001b[0;34m=\u001b[0m \u001b[0mmfcc2\u001b[0m\u001b[0;34m.\u001b[0m\u001b[0mto\u001b[0m\u001b[0;34m(\u001b[0m\u001b[0mdevice\u001b[0m\u001b[0;34m)\u001b[0m\u001b[0;34m\u001b[0m\u001b[0m\n\u001b[1;32m     13\u001b[0m \u001b[0;34m\u001b[0m\u001b[0m\n\u001b[0;32m---> 14\u001b[0;31m     \u001b[0moutput1\u001b[0m\u001b[0;34m,\u001b[0m \u001b[0moutput2\u001b[0m \u001b[0;34m=\u001b[0m \u001b[0mmodel\u001b[0m\u001b[0;34m(\u001b[0m\u001b[0mmfcc1\u001b[0m\u001b[0;34m,\u001b[0m \u001b[0mmfcc2\u001b[0m\u001b[0;34m)\u001b[0m\u001b[0;34m\u001b[0m\u001b[0m\n\u001b[0m\u001b[1;32m     15\u001b[0m     \u001b[0mloss\u001b[0m \u001b[0;34m=\u001b[0m \u001b[0mcriterion\u001b[0m\u001b[0;34m(\u001b[0m\u001b[0moutput1\u001b[0m\u001b[0;34m,\u001b[0m \u001b[0moutput2\u001b[0m\u001b[0;34m,\u001b[0m \u001b[0mlabel\u001b[0m\u001b[0;34m)\u001b[0m\u001b[0;34m\u001b[0m\u001b[0m\n\u001b[1;32m     16\u001b[0m \u001b[0;34m\u001b[0m\u001b[0m\n",
      "\u001b[0;32m~/miniconda3/envs/mlsp/lib/python3.6/site-packages/torch/nn/modules/module.py\u001b[0m in \u001b[0;36m__call__\u001b[0;34m(self, *input, **kwargs)\u001b[0m\n\u001b[1;32m    475\u001b[0m             \u001b[0mresult\u001b[0m \u001b[0;34m=\u001b[0m \u001b[0mself\u001b[0m\u001b[0;34m.\u001b[0m\u001b[0m_slow_forward\u001b[0m\u001b[0;34m(\u001b[0m\u001b[0;34m*\u001b[0m\u001b[0minput\u001b[0m\u001b[0;34m,\u001b[0m \u001b[0;34m**\u001b[0m\u001b[0mkwargs\u001b[0m\u001b[0;34m)\u001b[0m\u001b[0;34m\u001b[0m\u001b[0m\n\u001b[1;32m    476\u001b[0m         \u001b[0;32melse\u001b[0m\u001b[0;34m:\u001b[0m\u001b[0;34m\u001b[0m\u001b[0m\n\u001b[0;32m--> 477\u001b[0;31m             \u001b[0mresult\u001b[0m \u001b[0;34m=\u001b[0m \u001b[0mself\u001b[0m\u001b[0;34m.\u001b[0m\u001b[0mforward\u001b[0m\u001b[0;34m(\u001b[0m\u001b[0;34m*\u001b[0m\u001b[0minput\u001b[0m\u001b[0;34m,\u001b[0m \u001b[0;34m**\u001b[0m\u001b[0mkwargs\u001b[0m\u001b[0;34m)\u001b[0m\u001b[0;34m\u001b[0m\u001b[0m\n\u001b[0m\u001b[1;32m    478\u001b[0m         \u001b[0;32mfor\u001b[0m \u001b[0mhook\u001b[0m \u001b[0;32min\u001b[0m \u001b[0mself\u001b[0m\u001b[0;34m.\u001b[0m\u001b[0m_forward_hooks\u001b[0m\u001b[0;34m.\u001b[0m\u001b[0mvalues\u001b[0m\u001b[0;34m(\u001b[0m\u001b[0;34m)\u001b[0m\u001b[0;34m:\u001b[0m\u001b[0;34m\u001b[0m\u001b[0m\n\u001b[1;32m    479\u001b[0m             \u001b[0mhook_result\u001b[0m \u001b[0;34m=\u001b[0m \u001b[0mhook\u001b[0m\u001b[0;34m(\u001b[0m\u001b[0mself\u001b[0m\u001b[0;34m,\u001b[0m \u001b[0minput\u001b[0m\u001b[0;34m,\u001b[0m \u001b[0mresult\u001b[0m\u001b[0;34m)\u001b[0m\u001b[0;34m\u001b[0m\u001b[0m\n",
      "\u001b[0;32m~/SIV-Project/network.py\u001b[0m in \u001b[0;36mforward\u001b[0;34m(self, input1, input2)\u001b[0m\n\u001b[1;32m    112\u001b[0m     \u001b[0;32mdef\u001b[0m \u001b[0mforward\u001b[0m\u001b[0;34m(\u001b[0m\u001b[0mself\u001b[0m\u001b[0;34m,\u001b[0m \u001b[0minput1\u001b[0m\u001b[0;34m,\u001b[0m \u001b[0minput2\u001b[0m\u001b[0;34m)\u001b[0m\u001b[0;34m:\u001b[0m\u001b[0;34m\u001b[0m\u001b[0m\n\u001b[1;32m    113\u001b[0m         \u001b[0moutput1\u001b[0m \u001b[0;34m=\u001b[0m \u001b[0mself\u001b[0m\u001b[0;34m.\u001b[0m\u001b[0mforward_single\u001b[0m\u001b[0;34m(\u001b[0m\u001b[0minput1\u001b[0m\u001b[0;34m)\u001b[0m\u001b[0;34m\u001b[0m\u001b[0m\n\u001b[0;32m--> 114\u001b[0;31m         \u001b[0moutput2\u001b[0m \u001b[0;34m=\u001b[0m \u001b[0mself\u001b[0m\u001b[0;34m.\u001b[0m\u001b[0mforward_single\u001b[0m\u001b[0;34m(\u001b[0m\u001b[0minput2\u001b[0m\u001b[0;34m)\u001b[0m\u001b[0;34m\u001b[0m\u001b[0m\n\u001b[0m\u001b[1;32m    115\u001b[0m         \u001b[0;32mreturn\u001b[0m \u001b[0moutput1\u001b[0m\u001b[0;34m,\u001b[0m \u001b[0moutput2\u001b[0m\u001b[0;34m\u001b[0m\u001b[0m\n\u001b[1;32m    116\u001b[0m \u001b[0;34m\u001b[0m\u001b[0m\n",
      "\u001b[0;32m~/SIV-Project/network.py\u001b[0m in \u001b[0;36mforward_single\u001b[0;34m(self, x)\u001b[0m\n\u001b[1;32m    103\u001b[0m         \u001b[0mx\u001b[0m \u001b[0;34m=\u001b[0m \u001b[0mself\u001b[0m\u001b[0;34m.\u001b[0m\u001b[0mconv4\u001b[0m\u001b[0;34m(\u001b[0m\u001b[0mx\u001b[0m\u001b[0;34m)\u001b[0m\u001b[0;34m\u001b[0m\u001b[0m\n\u001b[1;32m    104\u001b[0m         \u001b[0mx\u001b[0m \u001b[0;34m=\u001b[0m \u001b[0mself\u001b[0m\u001b[0;34m.\u001b[0m\u001b[0mconv5\u001b[0m\u001b[0;34m(\u001b[0m\u001b[0mx\u001b[0m\u001b[0;34m)\u001b[0m\u001b[0;34m\u001b[0m\u001b[0m\n\u001b[0;32m--> 105\u001b[0;31m         \u001b[0mx\u001b[0m \u001b[0;34m=\u001b[0m \u001b[0mself\u001b[0m\u001b[0;34m.\u001b[0m\u001b[0mfc6\u001b[0m\u001b[0;34m(\u001b[0m\u001b[0mx\u001b[0m\u001b[0;34m)\u001b[0m\u001b[0;34m\u001b[0m\u001b[0m\n\u001b[0m\u001b[1;32m    106\u001b[0m         \u001b[0mx\u001b[0m \u001b[0;34m=\u001b[0m \u001b[0mself\u001b[0m\u001b[0;34m.\u001b[0m\u001b[0mglobal_pool\u001b[0m\u001b[0;34m(\u001b[0m\u001b[0mkernel_size\u001b[0m\u001b[0;34m=\u001b[0m\u001b[0mx\u001b[0m\u001b[0;34m.\u001b[0m\u001b[0msize\u001b[0m\u001b[0;34m(\u001b[0m\u001b[0;34m)\u001b[0m\u001b[0;34m[\u001b[0m\u001b[0;36m2\u001b[0m\u001b[0;34m:\u001b[0m\u001b[0;34m]\u001b[0m\u001b[0;34m)\u001b[0m\u001b[0;34m(\u001b[0m\u001b[0mx\u001b[0m\u001b[0;34m)\u001b[0m\u001b[0;34m\u001b[0m\u001b[0m\n\u001b[1;32m    107\u001b[0m         \u001b[0mx\u001b[0m \u001b[0;34m=\u001b[0m \u001b[0mself\u001b[0m\u001b[0;34m.\u001b[0m\u001b[0mfc7\u001b[0m\u001b[0;34m(\u001b[0m\u001b[0mx\u001b[0m\u001b[0;34m)\u001b[0m\u001b[0;34m\u001b[0m\u001b[0m\n",
      "\u001b[0;32m~/miniconda3/envs/mlsp/lib/python3.6/site-packages/torch/nn/modules/module.py\u001b[0m in \u001b[0;36m__call__\u001b[0;34m(self, *input, **kwargs)\u001b[0m\n\u001b[1;32m    475\u001b[0m             \u001b[0mresult\u001b[0m \u001b[0;34m=\u001b[0m \u001b[0mself\u001b[0m\u001b[0;34m.\u001b[0m\u001b[0m_slow_forward\u001b[0m\u001b[0;34m(\u001b[0m\u001b[0;34m*\u001b[0m\u001b[0minput\u001b[0m\u001b[0;34m,\u001b[0m \u001b[0;34m**\u001b[0m\u001b[0mkwargs\u001b[0m\u001b[0;34m)\u001b[0m\u001b[0;34m\u001b[0m\u001b[0m\n\u001b[1;32m    476\u001b[0m         \u001b[0;32melse\u001b[0m\u001b[0;34m:\u001b[0m\u001b[0;34m\u001b[0m\u001b[0m\n\u001b[0;32m--> 477\u001b[0;31m             \u001b[0mresult\u001b[0m \u001b[0;34m=\u001b[0m \u001b[0mself\u001b[0m\u001b[0;34m.\u001b[0m\u001b[0mforward\u001b[0m\u001b[0;34m(\u001b[0m\u001b[0;34m*\u001b[0m\u001b[0minput\u001b[0m\u001b[0;34m,\u001b[0m \u001b[0;34m**\u001b[0m\u001b[0mkwargs\u001b[0m\u001b[0;34m)\u001b[0m\u001b[0;34m\u001b[0m\u001b[0m\n\u001b[0m\u001b[1;32m    478\u001b[0m         \u001b[0;32mfor\u001b[0m \u001b[0mhook\u001b[0m \u001b[0;32min\u001b[0m \u001b[0mself\u001b[0m\u001b[0;34m.\u001b[0m\u001b[0m_forward_hooks\u001b[0m\u001b[0;34m.\u001b[0m\u001b[0mvalues\u001b[0m\u001b[0;34m(\u001b[0m\u001b[0;34m)\u001b[0m\u001b[0;34m:\u001b[0m\u001b[0;34m\u001b[0m\u001b[0m\n\u001b[1;32m    479\u001b[0m             \u001b[0mhook_result\u001b[0m \u001b[0;34m=\u001b[0m \u001b[0mhook\u001b[0m\u001b[0;34m(\u001b[0m\u001b[0mself\u001b[0m\u001b[0;34m,\u001b[0m \u001b[0minput\u001b[0m\u001b[0;34m,\u001b[0m \u001b[0mresult\u001b[0m\u001b[0;34m)\u001b[0m\u001b[0;34m\u001b[0m\u001b[0m\n",
      "\u001b[0;32m~/miniconda3/envs/mlsp/lib/python3.6/site-packages/torch/nn/modules/container.py\u001b[0m in \u001b[0;36mforward\u001b[0;34m(self, input)\u001b[0m\n\u001b[1;32m     89\u001b[0m     \u001b[0;32mdef\u001b[0m \u001b[0mforward\u001b[0m\u001b[0;34m(\u001b[0m\u001b[0mself\u001b[0m\u001b[0;34m,\u001b[0m \u001b[0minput\u001b[0m\u001b[0;34m)\u001b[0m\u001b[0;34m:\u001b[0m\u001b[0;34m\u001b[0m\u001b[0m\n\u001b[1;32m     90\u001b[0m         \u001b[0;32mfor\u001b[0m \u001b[0mmodule\u001b[0m \u001b[0;32min\u001b[0m \u001b[0mself\u001b[0m\u001b[0;34m.\u001b[0m\u001b[0m_modules\u001b[0m\u001b[0;34m.\u001b[0m\u001b[0mvalues\u001b[0m\u001b[0;34m(\u001b[0m\u001b[0;34m)\u001b[0m\u001b[0;34m:\u001b[0m\u001b[0;34m\u001b[0m\u001b[0m\n\u001b[0;32m---> 91\u001b[0;31m             \u001b[0minput\u001b[0m \u001b[0;34m=\u001b[0m \u001b[0mmodule\u001b[0m\u001b[0;34m(\u001b[0m\u001b[0minput\u001b[0m\u001b[0;34m)\u001b[0m\u001b[0;34m\u001b[0m\u001b[0m\n\u001b[0m\u001b[1;32m     92\u001b[0m         \u001b[0;32mreturn\u001b[0m \u001b[0minput\u001b[0m\u001b[0;34m\u001b[0m\u001b[0m\n\u001b[1;32m     93\u001b[0m \u001b[0;34m\u001b[0m\u001b[0m\n",
      "\u001b[0;32m~/miniconda3/envs/mlsp/lib/python3.6/site-packages/torch/nn/modules/module.py\u001b[0m in \u001b[0;36m__call__\u001b[0;34m(self, *input, **kwargs)\u001b[0m\n\u001b[1;32m    475\u001b[0m             \u001b[0mresult\u001b[0m \u001b[0;34m=\u001b[0m \u001b[0mself\u001b[0m\u001b[0;34m.\u001b[0m\u001b[0m_slow_forward\u001b[0m\u001b[0;34m(\u001b[0m\u001b[0;34m*\u001b[0m\u001b[0minput\u001b[0m\u001b[0;34m,\u001b[0m \u001b[0;34m**\u001b[0m\u001b[0mkwargs\u001b[0m\u001b[0;34m)\u001b[0m\u001b[0;34m\u001b[0m\u001b[0m\n\u001b[1;32m    476\u001b[0m         \u001b[0;32melse\u001b[0m\u001b[0;34m:\u001b[0m\u001b[0;34m\u001b[0m\u001b[0m\n\u001b[0;32m--> 477\u001b[0;31m             \u001b[0mresult\u001b[0m \u001b[0;34m=\u001b[0m \u001b[0mself\u001b[0m\u001b[0;34m.\u001b[0m\u001b[0mforward\u001b[0m\u001b[0;34m(\u001b[0m\u001b[0;34m*\u001b[0m\u001b[0minput\u001b[0m\u001b[0;34m,\u001b[0m \u001b[0;34m**\u001b[0m\u001b[0mkwargs\u001b[0m\u001b[0;34m)\u001b[0m\u001b[0;34m\u001b[0m\u001b[0m\n\u001b[0m\u001b[1;32m    478\u001b[0m         \u001b[0;32mfor\u001b[0m \u001b[0mhook\u001b[0m \u001b[0;32min\u001b[0m \u001b[0mself\u001b[0m\u001b[0;34m.\u001b[0m\u001b[0m_forward_hooks\u001b[0m\u001b[0;34m.\u001b[0m\u001b[0mvalues\u001b[0m\u001b[0;34m(\u001b[0m\u001b[0;34m)\u001b[0m\u001b[0;34m:\u001b[0m\u001b[0;34m\u001b[0m\u001b[0m\n\u001b[1;32m    479\u001b[0m             \u001b[0mhook_result\u001b[0m \u001b[0;34m=\u001b[0m \u001b[0mhook\u001b[0m\u001b[0;34m(\u001b[0m\u001b[0mself\u001b[0m\u001b[0;34m,\u001b[0m \u001b[0minput\u001b[0m\u001b[0;34m,\u001b[0m \u001b[0mresult\u001b[0m\u001b[0;34m)\u001b[0m\u001b[0;34m\u001b[0m\u001b[0m\n",
      "\u001b[0;32m~/miniconda3/envs/mlsp/lib/python3.6/site-packages/torch/nn/modules/conv.py\u001b[0m in \u001b[0;36mforward\u001b[0;34m(self, input)\u001b[0m\n\u001b[1;32m    299\u001b[0m     \u001b[0;32mdef\u001b[0m \u001b[0mforward\u001b[0m\u001b[0;34m(\u001b[0m\u001b[0mself\u001b[0m\u001b[0;34m,\u001b[0m \u001b[0minput\u001b[0m\u001b[0;34m)\u001b[0m\u001b[0;34m:\u001b[0m\u001b[0;34m\u001b[0m\u001b[0m\n\u001b[1;32m    300\u001b[0m         return F.conv2d(input, self.weight, self.bias, self.stride,\n\u001b[0;32m--> 301\u001b[0;31m                         self.padding, self.dilation, self.groups)\n\u001b[0m\u001b[1;32m    302\u001b[0m \u001b[0;34m\u001b[0m\u001b[0m\n\u001b[1;32m    303\u001b[0m \u001b[0;34m\u001b[0m\u001b[0m\n",
      "\u001b[0;31mRuntimeError\u001b[0m: CUDA error: out of memory"
     ]
    }
   ],
   "source": [
    "all_losses, all_labels  = [], []\n",
    "\n",
    "for i, data  in enumerate(voxceleb_test_pairs_dataset):\n",
    "    \n",
    "    mfcc1, mfcc2, label = data['spec1'], data['spec2'], data['label']\n",
    "    mfcc1 = torch.tensor(mfcc1)\n",
    "    mfcc2 = torch.tensor(mfcc2)\n",
    "    \n",
    "    mfcc1 = mfcc1.view(test_batch_size, 1, mfcc1.shape[1], mfcc1.shape[2])\n",
    "    mfcc2 = mfcc2.view(test_batch_size, 1, mfcc2.shape[1], mfcc2.shape[2])\n",
    "    mfcc1 = mfcc1.to(device)\n",
    "    mfcc2 = mfcc2.to(device)\n",
    "\n",
    "    output1, output2 = model(mfcc1, mfcc2)   \n",
    "    loss = criterion(output1, output2, label)\n",
    "        \n",
    "    all_losses.append(loss.item())\n",
    "    all_labels.append(label)\n",
    "    \n",
    "    print(i, loss.item(), label)\n",
    "    if i ==10:\n",
    "        break\n",
    "\n",
    "threshold = 0.5\n",
    "\n",
    "idxs = np.where(np.asarray(all_losses) < threshold) \n",
    "preds = np.ones(len(all_losses))\n",
    "preds[idxs] = 0\n",
    "print(preds)\n",
    "\n",
    "# positive class = 0, negative = 1\n",
    "true_positives = np.where(preds[np.where(all_labels == 0)] == 0)\n",
    "true_negatives = np.where(preds[np.where(all_labels == 1)] == 1)\n",
    "false_positives = np.where(preds[np.where(all_labels == 1)] == 0)\n",
    "false_negatives = np.where(preds[np.where(all_labels == 0)] == 1)\n",
    "\n",
    "# f1 score\n",
    "precision = len(true_positives) / (len(true_positives) + len(false_positives))\n",
    "recall = len(true_positives) / (len(true_positives) + len(false_negatives))\n",
    "f1_score = 2 * precision * recall / (precision + recall)\n",
    "\n",
    "print(\"precision\", \"recall\", \"F1 score\")\n",
    "print(precision, recall, f1_score)"
   ]
  },
  {
   "cell_type": "code",
   "execution_count": null,
   "metadata": {
    "colab": {},
    "colab_type": "code",
    "id": "CG_I_-T7NRrP"
   },
   "outputs": [],
   "source": [
    "a = torch.tensor([[1,2], [3,4]])"
   ]
  },
  {
   "cell_type": "code",
   "execution_count": null,
   "metadata": {
    "colab": {
     "base_uri": "https://localhost:8080/",
     "height": 34
    },
    "colab_type": "code",
    "executionInfo": {
     "elapsed": 477,
     "status": "ok",
     "timestamp": 1544254838806,
     "user": {
      "displayName": "Dheeraj Singh",
      "photoUrl": "",
      "userId": "06164132303714013558"
     },
     "user_tz": 300
    },
    "id": "5ncPjyFGwsQE",
    "outputId": "4826d34d-7695-4c5b-b52c-b8da8b797cc8"
   },
   "outputs": [],
   "source": [
    "a.shape"
   ]
  },
  {
   "cell_type": "code",
   "execution_count": null,
   "metadata": {
    "colab": {
     "base_uri": "https://localhost:8080/",
     "height": 34
    },
    "colab_type": "code",
    "executionInfo": {
     "elapsed": 921,
     "status": "ok",
     "timestamp": 1544254946628,
     "user": {
      "displayName": "Dheeraj Singh",
      "photoUrl": "",
      "userId": "06164132303714013558"
     },
     "user_tz": 300
    },
    "id": "EQaDeirUwtWq",
    "outputId": "6301aafc-4d24-4352-a79f-a0490008935b"
   },
   "outputs": [],
   "source": [
    "a.view(1,1,1,-1).shape"
   ]
  },
  {
   "cell_type": "code",
   "execution_count": null,
   "metadata": {
    "colab": {
     "base_uri": "https://localhost:8080/",
     "height": 164
    },
    "colab_type": "code",
    "executionInfo": {
     "elapsed": 611,
     "status": "error",
     "timestamp": 1544255978495,
     "user": {
      "displayName": "Dheeraj Singh",
      "photoUrl": "",
      "userId": "06164132303714013558"
     },
     "user_tz": 300
    },
    "id": "NNSHka3DwwlH",
    "outputId": "3dc783a3-2e7e-4e7a-f0a3-d5ccc24743e6"
   },
   "outputs": [],
   "source": [
    "all_losses.data"
   ]
  },
  {
   "cell_type": "code",
   "execution_count": null,
   "metadata": {
    "colab": {},
    "colab_type": "code",
    "id": "87JfZ3KK1DkZ"
   },
   "outputs": [],
   "source": []
  }
 ],
 "metadata": {
  "accelerator": "GPU",
  "colab": {
   "collapsed_sections": [],
   "name": "checkpoint_ML_Part.ipynb",
   "provenance": [
    {
     "file_id": "19lQDLwZKH9tH3yEKFOOm346sVXSIUwR3",
     "timestamp": 1543973773233
    }
   ],
   "version": "0.3.2"
  },
  "kernelspec": {
   "display_name": "mlsp",
   "language": "python",
   "name": "mlsp"
  },
  "language_info": {
   "codemirror_mode": {
    "name": "ipython",
    "version": 3
   },
   "file_extension": ".py",
   "mimetype": "text/x-python",
   "name": "python",
   "nbconvert_exporter": "python",
   "pygments_lexer": "ipython3",
   "version": "3.6.6"
  }
 },
 "nbformat": 4,
 "nbformat_minor": 2
}
