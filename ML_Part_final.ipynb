{
 "cells": [
  {
   "cell_type": "code",
   "execution_count": 1,
   "metadata": {
    "colab": {
     "base_uri": "https://localhost:8080/",
     "height": 368
    },
    "colab_type": "code",
    "id": "nGtVStKtv6LT",
    "outputId": "500f07cd-2f74-4ae5-8fce-1df0ba4565bc"
   },
   "outputs": [],
   "source": [
    "from utils import *\n",
    "from network import *"
   ]
  },
  {
   "cell_type": "code",
   "execution_count": 2,
   "metadata": {
    "colab": {
     "base_uri": "https://localhost:8080/",
     "height": 34
    },
    "colab_type": "code",
    "id": "i6aZ0NykBT70",
    "outputId": "134978d1-3f04-456d-d08e-d382ba6e0629"
   },
   "outputs": [
    {
     "name": "stdout",
     "output_type": "stream",
     "text": [
      "cuda:0\n"
     ]
    }
   ],
   "source": [
    "device = torch.device(\"cuda:0\" if torch.cuda.is_available() else \"cpu\")\n",
    "print(device)"
   ]
  },
  {
   "cell_type": "code",
   "execution_count": 3,
   "metadata": {
    "colab": {
     "base_uri": "https://localhost:8080/",
     "height": 306
    },
    "colab_type": "code",
    "id": "1swM4U97IAeK",
    "outputId": "d745b67b-6e68-43be-efa1-9feeea9c7551"
   },
   "outputs": [],
   "source": [
    "weights = load_pretrained_weights()"
   ]
  },
  {
   "cell_type": "code",
   "execution_count": 5,
   "metadata": {},
   "outputs": [],
   "source": [
    "model = VggVox(weights=weights)\n",
    "model = model.to(device)\n",
    "\n",
    "criterion = ContrastiveLoss()\n",
    "criterion = criterion.to(device)"
   ]
  },
  {
   "cell_type": "code",
   "execution_count": 8,
   "metadata": {
    "colab": {},
    "colab_type": "code",
    "id": "OUQYaOUjwjGb"
   },
   "outputs": [],
   "source": [
    "loss_list = []\n",
    "best_loss = torch.autograd.Variable(torch.tensor(np.inf)).float()"
   ]
  },
  {
   "cell_type": "code",
   "execution_count": 21,
   "metadata": {
    "colab": {},
    "colab_type": "code",
    "id": "Bh80WU4lJAxE"
   },
   "outputs": [],
   "source": [
    "LEARNING_RATE = 5e-3\n",
    "N_EPOCHS = 10\n",
    "BATCH_SIZE = 16"
   ]
  },
  {
   "cell_type": "code",
   "execution_count": 22,
   "metadata": {},
   "outputs": [],
   "source": [
    "optimizer = optim.Adam(model.parameters(), lr=LEARNING_RATE)"
   ]
  },
  {
   "cell_type": "code",
   "execution_count": 23,
   "metadata": {
    "colab": {
     "base_uri": "https://localhost:8080/",
     "height": 68
    },
    "colab_type": "code",
    "id": "lIKadKjFDTgx",
    "outputId": "6f187bdb-e63d-4e9b-d20f-b5d67cea8a07"
   },
   "outputs": [
    {
     "name": "stdout",
     "output_type": "stream",
     "text": [
      "training unique users 80\n",
      "training samples 3200\n",
      "batches 200\n"
     ]
    }
   ],
   "source": [
    "voxceleb_dataset = VoxCelebDataset(PAIRS_FILE)\n",
    "train_dataloader = DataLoader(voxceleb_dataset, batch_size=BATCH_SIZE, shuffle=True, \n",
    "                              num_workers=4)\n",
    "n_batches = int(len(voxceleb_dataset) / BATCH_SIZE)\n",
    "\n",
    "print(\"training unique users\", len(voxceleb_dataset.training_users))\n",
    "print(\"training samples\", len(voxceleb_dataset))\n",
    "print(\"batches\", int(len(voxceleb_dataset) / BATCH_SIZE))"
   ]
  },
  {
   "cell_type": "code",
   "execution_count": 24,
   "metadata": {
    "colab": {
     "base_uri": "https://localhost:8080/",
     "height": 3519
    },
    "colab_type": "code",
    "id": "FbWVd_VNIVYr",
    "outputId": "9b55d499-8dcf-4f54-80de-f208b94acdd2"
   },
   "outputs": [
    {
     "name": "stdout",
     "output_type": "stream",
     "text": [
      "Epoch 1/10  Batch 10/200 \n",
      "Current Batch Loss 1.0976811647415161\n",
      "\n",
      "Epoch 1/10  Batch 20/200 \n",
      "Current Batch Loss 1.3285996913909912\n",
      "\n",
      "Epoch 1/10  Batch 30/200 \n",
      "Current Batch Loss 1.3130427598953247\n",
      "\n",
      "Epoch 1/10  Batch 40/200 \n",
      "Current Batch Loss 1.511757254600525\n",
      "\n",
      "Epoch 1/10  Batch 50/200 \n",
      "Current Batch Loss 0.9548138380050659\n",
      "\n",
      "Epoch 1/10  Batch 60/200 \n",
      "Current Batch Loss 1.475833773612976\n",
      "\n",
      "Epoch 1/10  Batch 70/200 \n",
      "Current Batch Loss 1.4999520778656006\n",
      "\n",
      "Epoch 1/10  Batch 80/200 \n",
      "Current Batch Loss 2.2499279975891113\n",
      "\n",
      "Epoch 1/10  Batch 90/200 \n",
      "Current Batch Loss 1.7452079057693481\n",
      "\n",
      "Epoch 1/10  Batch 100/200 \n",
      "Current Batch Loss 0.7361958622932434\n",
      "\n",
      "Epoch 1/10  Batch 110/200 \n",
      "Current Batch Loss 2.1739730834960938\n",
      "\n",
      "Epoch 1/10  Batch 120/200 \n",
      "Current Batch Loss 0.9449590444564819\n",
      "\n",
      "Epoch 1/10  Batch 130/200 \n",
      "Current Batch Loss 2.001070976257324\n",
      "\n",
      "Epoch 1/10  Batch 140/200 \n",
      "Current Batch Loss 1.2019295692443848\n",
      "\n",
      "Epoch 1/10  Batch 150/200 \n",
      "Current Batch Loss 1.177822232246399\n",
      "\n",
      "Epoch 1/10  Batch 160/200 \n",
      "Current Batch Loss 1.6516869068145752\n",
      "\n",
      "Epoch 1/10  Batch 170/200 \n",
      "Current Batch Loss 1.2256184816360474\n",
      "\n",
      "Epoch 1/10  Batch 180/200 \n",
      "Current Batch Loss 2.6798782348632812\n",
      "\n",
      "Epoch 1/10  Batch 190/200 \n",
      "Current Batch Loss 1.0263562202453613\n",
      "\n",
      "Epoch 1/10  Batch 200/200 \n",
      "Current Batch Loss 1.1180994510650635\n",
      "\n",
      "==> Epoch 1/10 Epoch Loss 0.1527528315782547\n",
      "### Epoch Loss did not improve\n",
      "\n"
     ]
    },
    {
     "data": {
      "image/png": "[encoded data removed]",
      "text/plain": [
       "<Figure size 432x288 with 1 Axes>"
      ]
     },
     "metadata": {
      "needs_background": "light"
     },
     "output_type": "display_data"
    },
    {
     "name": "stdout",
     "output_type": "stream",
     "text": [
      "Epoch 2/10  Batch 10/200 \n",
      "Current Batch Loss 0.7304832339286804\n",
      "\n",
      "Epoch 2/10  Batch 20/200 \n",
      "Current Batch Loss 1.664494514465332\n",
      "\n",
      "Epoch 2/10  Batch 30/200 \n",
      "Current Batch Loss 1.4203083515167236\n",
      "\n",
      "Epoch 2/10  Batch 40/200 \n",
      "Current Batch Loss 1.3028782606124878\n",
      "\n",
      "Epoch 2/10  Batch 50/200 \n",
      "Current Batch Loss 1.6960656642913818\n",
      "\n",
      "Epoch 2/10  Batch 60/200 \n",
      "Current Batch Loss 1.133612871170044\n",
      "\n",
      "Epoch 2/10  Batch 70/200 \n",
      "Current Batch Loss 1.0789767503738403\n",
      "\n",
      "Epoch 2/10  Batch 80/200 \n",
      "Current Batch Loss 0.9501264095306396\n",
      "\n",
      "Epoch 2/10  Batch 90/200 \n",
      "Current Batch Loss 1.2629934549331665\n",
      "\n",
      "Epoch 2/10  Batch 100/200 \n",
      "Current Batch Loss 1.5386983156204224\n",
      "\n",
      "Epoch 2/10  Batch 110/200 \n",
      "Current Batch Loss 1.2835501432418823\n",
      "\n",
      "Epoch 2/10  Batch 120/200 \n",
      "Current Batch Loss 1.2319589853286743\n",
      "\n",
      "Epoch 2/10  Batch 130/200 \n",
      "Current Batch Loss 1.1853883266448975\n",
      "\n",
      "Epoch 2/10  Batch 140/200 \n",
      "Current Batch Loss 1.661989688873291\n",
      "\n",
      "Epoch 2/10  Batch 150/200 \n",
      "Current Batch Loss 1.715441107749939\n",
      "\n",
      "Epoch 2/10  Batch 160/200 \n",
      "Current Batch Loss 1.3091375827789307\n",
      "\n",
      "Epoch 2/10  Batch 170/200 \n",
      "Current Batch Loss 1.7050389051437378\n",
      "\n",
      "Epoch 2/10  Batch 180/200 \n",
      "Current Batch Loss 1.3060368299484253\n",
      "\n",
      "Epoch 2/10  Batch 190/200 \n",
      "Current Batch Loss 0.8713862895965576\n",
      "\n",
      "Epoch 2/10  Batch 200/200 \n",
      "Current Batch Loss 1.0046637058258057\n",
      "\n",
      "==> Epoch 2/10 Epoch Loss 0.0824766531586647\n",
      "### Epoch Loss did not improve\n",
      "\n"
     ]
    },
    {
     "data": {
      "image/png": "[encoded data removed]",
      "text/plain": [
       "<Figure size 432x288 with 1 Axes>"
      ]
     },
     "metadata": {
      "needs_background": "light"
     },
     "output_type": "display_data"
    },
    {
     "name": "stdout",
     "output_type": "stream",
     "text": [
      "Epoch 3/10  Batch 10/200 \n",
      "Current Batch Loss 1.334560751914978\n",
      "\n",
      "Epoch 3/10  Batch 20/200 \n",
      "Current Batch Loss 1.5543943643569946\n",
      "\n",
      "Epoch 3/10  Batch 30/200 \n",
      "Current Batch Loss 1.4718927145004272\n",
      "\n",
      "Epoch 3/10  Batch 40/200 \n",
      "Current Batch Loss 1.1352390050888062\n",
      "\n",
      "Epoch 3/10  Batch 50/200 \n",
      "Current Batch Loss 0.7938237190246582\n",
      "\n",
      "Epoch 3/10  Batch 60/200 \n",
      "Current Batch Loss 1.0592397451400757\n",
      "\n",
      "Epoch 3/10  Batch 70/200 \n",
      "Current Batch Loss 1.300257682800293\n",
      "\n",
      "Epoch 3/10  Batch 80/200 \n",
      "Current Batch Loss 1.1661971807479858\n",
      "\n",
      "Epoch 3/10  Batch 90/200 \n",
      "Current Batch Loss 0.966151237487793\n",
      "\n",
      "Epoch 3/10  Batch 100/200 \n",
      "Current Batch Loss 0.607552707195282\n",
      "\n",
      "Epoch 3/10  Batch 110/200 \n",
      "Current Batch Loss 1.3155467510223389\n",
      "\n",
      "Epoch 3/10  Batch 120/200 \n",
      "Current Batch Loss 1.2858015298843384\n",
      "\n",
      "Epoch 3/10  Batch 130/200 \n",
      "Current Batch Loss 1.2726519107818604\n",
      "\n",
      "Epoch 3/10  Batch 140/200 \n",
      "Current Batch Loss 1.2376196384429932\n",
      "\n",
      "Epoch 3/10  Batch 150/200 \n",
      "Current Batch Loss 0.8468498587608337\n",
      "\n",
      "Epoch 3/10  Batch 160/200 \n",
      "Current Batch Loss 1.1567704677581787\n",
      "\n",
      "Epoch 3/10  Batch 170/200 \n",
      "Current Batch Loss 1.4932472705841064\n",
      "\n",
      "Epoch 3/10  Batch 180/200 \n",
      "Current Batch Loss 0.4007762670516968\n",
      "\n",
      "Epoch 3/10  Batch 190/200 \n",
      "Current Batch Loss 1.329529881477356\n",
      "\n",
      "Epoch 3/10  Batch 200/200 \n",
      "Current Batch Loss 0.9983636736869812\n",
      "\n",
      "==> Epoch 3/10 Epoch Loss 0.0702725201845169\n",
      "### Epoch Loss did not improve\n",
      "\n"
     ]
    },
    {
     "data": {
      "image/png": "[encoded data removed]",
      "text/plain": [
       "<Figure size 432x288 with 1 Axes>"
      ]
     },
     "metadata": {
      "needs_background": "light"
     },
     "output_type": "display_data"
    },
    {
     "name": "stdout",
     "output_type": "stream",
     "text": [
      "Epoch 4/10  Batch 10/200 \n",
      "Current Batch Loss 1.2754623889923096\n",
      "\n",
      "Epoch 4/10  Batch 20/200 \n",
      "Current Batch Loss 0.560636579990387\n",
      "\n",
      "Epoch 4/10  Batch 30/200 \n",
      "Current Batch Loss 1.3418744802474976\n",
      "\n",
      "Epoch 4/10  Batch 40/200 \n",
      "Current Batch Loss 0.7650084495544434\n",
      "\n",
      "Epoch 4/10  Batch 50/200 \n",
      "Current Batch Loss 1.4013922214508057\n",
      "\n",
      "Epoch 4/10  Batch 60/200 \n",
      "Current Batch Loss 1.8287231922149658\n",
      "\n",
      "Epoch 4/10  Batch 70/200 \n",
      "Current Batch Loss 0.9130198955535889\n",
      "\n",
      "Epoch 4/10  Batch 80/200 \n",
      "Current Batch Loss 1.4003827571868896\n",
      "\n",
      "Epoch 4/10  Batch 90/200 \n",
      "Current Batch Loss 1.7743823528289795\n",
      "\n",
      "Epoch 4/10  Batch 100/200 \n",
      "Current Batch Loss 0.8495302200317383\n",
      "\n",
      "Epoch 4/10  Batch 110/200 \n",
      "Current Batch Loss 0.9586051106452942\n",
      "\n",
      "Epoch 4/10  Batch 120/200 \n",
      "Current Batch Loss 0.5937970876693726\n",
      "\n",
      "Epoch 4/10  Batch 130/200 \n",
      "Current Batch Loss 0.5628764033317566\n",
      "\n",
      "Epoch 4/10  Batch 140/200 \n",
      "Current Batch Loss 0.550452709197998\n",
      "\n",
      "Epoch 4/10  Batch 150/200 \n",
      "Current Batch Loss 2.499919891357422\n",
      "\n",
      "Epoch 4/10  Batch 160/200 \n",
      "Current Batch Loss 3.2498955726623535\n",
      "\n",
      "Epoch 4/10  Batch 170/200 \n",
      "Current Batch Loss 1.9999361038208008\n",
      "\n",
      "Epoch 4/10  Batch 180/200 \n",
      "Current Batch Loss 2.499919891357422\n",
      "\n",
      "Epoch 4/10  Batch 190/200 \n",
      "Current Batch Loss 1.9999361038208008\n",
      "\n",
      "Epoch 4/10  Batch 200/200 \n",
      "Current Batch Loss 1.7499440908432007\n",
      "\n",
      "==> Epoch 4/10 Epoch Loss 0.0789107158780098\n",
      "### Epoch Loss did not improve\n",
      "\n"
     ]
    },
    {
     "data": {
      "image/png": "[encoded data removed]",
      "text/plain": [
       "<Figure size 432x288 with 1 Axes>"
      ]
     },
     "metadata": {
      "needs_background": "light"
     },
     "output_type": "display_data"
    },
    {
     "name": "stdout",
     "output_type": "stream",
     "text": [
      "Epoch 5/10  Batch 10/200 \n",
      "Current Batch Loss 2.7499117851257324\n",
      "\n",
      "Epoch 5/10  Batch 20/200 \n",
      "Current Batch Loss 1.4999520778656006\n",
      "\n",
      "Epoch 5/10  Batch 30/200 \n",
      "Current Batch Loss 2.2499279975891113\n",
      "\n",
      "Epoch 5/10  Batch 40/200 \n",
      "Current Batch Loss 2.499919891357422\n",
      "\n",
      "Epoch 5/10  Batch 50/200 \n",
      "Current Batch Loss 1.2499600648880005\n",
      "\n",
      "Epoch 5/10  Batch 60/200 \n",
      "Current Batch Loss 1.4999520778656006\n",
      "\n",
      "Epoch 5/10  Batch 70/200 \n",
      "Current Batch Loss 1.9999361038208008\n",
      "\n",
      "Epoch 5/10  Batch 80/200 \n",
      "Current Batch Loss 2.2499279975891113\n",
      "\n",
      "Epoch 5/10  Batch 90/200 \n",
      "Current Batch Loss 2.499919891357422\n",
      "\n",
      "Epoch 5/10  Batch 100/200 \n",
      "Current Batch Loss 2.499919891357422\n",
      "\n",
      "Epoch 5/10  Batch 110/200 \n",
      "Current Batch Loss 1.4999520778656006\n",
      "\n",
      "Epoch 5/10  Batch 120/200 \n",
      "Current Batch Loss 2.2499279975891113\n",
      "\n",
      "Epoch 5/10  Batch 130/200 \n",
      "Current Batch Loss 1.7499440908432007\n",
      "\n",
      "Epoch 5/10  Batch 140/200 \n",
      "Current Batch Loss 2.499919891357422\n",
      "\n",
      "Epoch 5/10  Batch 150/200 \n",
      "Current Batch Loss 2.999903678894043\n",
      "\n",
      "Epoch 5/10  Batch 160/200 \n",
      "Current Batch Loss 1.2499600648880005\n",
      "\n",
      "Epoch 5/10  Batch 170/200 \n",
      "Current Batch Loss 1.2499600648880005\n",
      "\n",
      "Epoch 5/10  Batch 180/200 \n",
      "Current Batch Loss 2.7499117851257324\n",
      "\n",
      "Epoch 5/10  Batch 190/200 \n",
      "Current Batch Loss 2.2499279975891113\n",
      "\n",
      "Epoch 5/10  Batch 200/200 \n",
      "Current Batch Loss 2.2499279975891113\n",
      "\n",
      "==> Epoch 5/10 Epoch Loss 0.12499596923589706\n",
      "### Epoch Loss did not improve\n",
      "\n"
     ]
    },
    {
     "data": {
      "image/png": "[encoded data removed]",
      "text/plain": [
       "<Figure size 432x288 with 1 Axes>"
      ]
     },
     "metadata": {
      "needs_background": "light"
     },
     "output_type": "display_data"
    },
    {
     "name": "stdout",
     "output_type": "stream",
     "text": [
      "Epoch 6/10  Batch 10/200 \n",
      "Current Batch Loss 2.2499279975891113\n",
      "\n",
      "Epoch 6/10  Batch 20/200 \n",
      "Current Batch Loss 1.4999520778656006\n",
      "\n",
      "Epoch 6/10  Batch 30/200 \n",
      "Current Batch Loss 2.499919891357422\n",
      "\n",
      "Epoch 6/10  Batch 40/200 \n",
      "Current Batch Loss 2.2499279975891113\n",
      "\n",
      "Epoch 6/10  Batch 50/200 \n",
      "Current Batch Loss 1.9999361038208008\n",
      "\n",
      "Epoch 6/10  Batch 60/200 \n",
      "Current Batch Loss 1.4999520778656006\n",
      "\n",
      "Epoch 6/10  Batch 70/200 \n",
      "Current Batch Loss 1.7499440908432007\n",
      "\n",
      "Epoch 6/10  Batch 80/200 \n",
      "Current Batch Loss 1.7499440908432007\n",
      "\n",
      "Epoch 6/10  Batch 90/200 \n",
      "Current Batch Loss 1.7499440908432007\n",
      "\n",
      "Epoch 6/10  Batch 100/200 \n",
      "Current Batch Loss 1.2499600648880005\n",
      "\n",
      "Epoch 6/10  Batch 110/200 \n",
      "Current Batch Loss 2.499919891357422\n",
      "\n",
      "Epoch 6/10  Batch 120/200 \n",
      "Current Batch Loss 2.999903678894043\n",
      "\n",
      "Epoch 6/10  Batch 130/200 \n",
      "Current Batch Loss 1.4999520778656006\n",
      "\n",
      "Epoch 6/10  Batch 140/200 \n",
      "Current Batch Loss 1.7499440908432007\n",
      "\n",
      "Epoch 6/10  Batch 150/200 \n",
      "Current Batch Loss 1.9999361038208008\n",
      "\n",
      "Epoch 6/10  Batch 160/200 \n",
      "Current Batch Loss 1.7499440908432007\n",
      "\n",
      "Epoch 6/10  Batch 170/200 \n",
      "Current Batch Loss 2.7499117851257324\n",
      "\n",
      "Epoch 6/10  Batch 180/200 \n",
      "Current Batch Loss 2.499919891357422\n",
      "\n",
      "Epoch 6/10  Batch 190/200 \n",
      "Current Batch Loss 2.2499279975891113\n",
      "\n",
      "Epoch 6/10  Batch 200/200 \n",
      "Current Batch Loss 1.4999520778656006\n",
      "\n",
      "==> Epoch 6/10 Epoch Loss 0.12499598413705826\n",
      "### Epoch Loss did not improve\n",
      "\n"
     ]
    },
    {
     "data": {
      "image/png": "[encoded data removed]",
      "text/plain": [
       "<Figure size 432x288 with 1 Axes>"
      ]
     },
     "metadata": {
      "needs_background": "light"
     },
     "output_type": "display_data"
    },
    {
     "name": "stdout",
     "output_type": "stream",
     "text": [
      "Epoch 7/10  Batch 10/200 \n",
      "Current Batch Loss 1.9999361038208008\n",
      "\n",
      "Epoch 7/10  Batch 20/200 \n",
      "Current Batch Loss 1.7499440908432007\n",
      "\n",
      "Epoch 7/10  Batch 30/200 \n",
      "Current Batch Loss 2.7499117851257324\n",
      "\n",
      "Epoch 7/10  Batch 40/200 \n",
      "Current Batch Loss 0.4999840259552002\n",
      "\n",
      "Epoch 7/10  Batch 50/200 \n",
      "Current Batch Loss 3.2498955726623535\n",
      "\n",
      "Epoch 7/10  Batch 60/200 \n",
      "Current Batch Loss 1.2499600648880005\n",
      "\n",
      "Epoch 7/10  Batch 70/200 \n",
      "Current Batch Loss 0.9999680519104004\n",
      "\n",
      "Epoch 7/10  Batch 80/200 \n",
      "Current Batch Loss 2.2499279975891113\n",
      "\n",
      "Epoch 7/10  Batch 90/200 \n",
      "Current Batch Loss 2.2499279975891113\n",
      "\n",
      "Epoch 7/10  Batch 100/200 \n",
      "Current Batch Loss 2.499919891357422\n",
      "\n",
      "Epoch 7/10  Batch 110/200 \n",
      "Current Batch Loss 1.9999361038208008\n",
      "\n",
      "Epoch 7/10  Batch 120/200 \n",
      "Current Batch Loss 1.9999361038208008\n",
      "\n",
      "Epoch 7/10  Batch 130/200 \n",
      "Current Batch Loss 2.2499279975891113\n",
      "\n",
      "Epoch 7/10  Batch 140/200 \n",
      "Current Batch Loss 2.499919891357422\n",
      "\n",
      "Epoch 7/10  Batch 150/200 \n",
      "Current Batch Loss 1.9999361038208008\n",
      "\n",
      "Epoch 7/10  Batch 160/200 \n",
      "Current Batch Loss 1.9999361038208008\n",
      "\n",
      "Epoch 7/10  Batch 170/200 \n",
      "Current Batch Loss 0.9999680519104004\n",
      "\n",
      "Epoch 7/10  Batch 180/200 \n",
      "Current Batch Loss 2.2499279975891113\n",
      "\n",
      "Epoch 7/10  Batch 190/200 \n",
      "Current Batch Loss 0.9999680519104004\n",
      "\n",
      "Epoch 7/10  Batch 200/200 \n",
      "Current Batch Loss 1.4999520778656006\n",
      "\n",
      "==> Epoch 7/10 Epoch Loss 0.12499596923589706\n",
      "### Epoch Loss did not improve\n",
      "\n"
     ]
    },
    {
     "data": {
      "image/png": "[encoded data removed]",
      "text/plain": [
       "<Figure size 432x288 with 1 Axes>"
      ]
     },
     "metadata": {
      "needs_background": "light"
     },
     "output_type": "display_data"
    },
    {
     "name": "stdout",
     "output_type": "stream",
     "text": [
      "Epoch 8/10  Batch 10/200 \n",
      "Current Batch Loss 1.9999361038208008\n",
      "\n",
      "Epoch 8/10  Batch 20/200 \n",
      "Current Batch Loss 0.9999680519104004\n",
      "\n",
      "Epoch 8/10  Batch 30/200 \n",
      "Current Batch Loss 1.9999361038208008\n",
      "\n",
      "Epoch 8/10  Batch 40/200 \n",
      "Current Batch Loss 1.7499440908432007\n",
      "\n",
      "Epoch 8/10  Batch 50/200 \n",
      "Current Batch Loss 1.7499440908432007\n",
      "\n",
      "Epoch 8/10  Batch 60/200 \n",
      "Current Batch Loss 1.4999520778656006\n",
      "\n",
      "Epoch 8/10  Batch 70/200 \n",
      "Current Batch Loss 3.2498955726623535\n",
      "\n",
      "Epoch 8/10  Batch 80/200 \n",
      "Current Batch Loss 1.4999520778656006\n",
      "\n",
      "Epoch 8/10  Batch 90/200 \n",
      "Current Batch Loss 1.7499440908432007\n",
      "\n",
      "Epoch 8/10  Batch 100/200 \n",
      "Current Batch Loss 2.7499117851257324\n",
      "\n",
      "Epoch 8/10  Batch 110/200 \n",
      "Current Batch Loss 2.2499279975891113\n",
      "\n",
      "Epoch 8/10  Batch 120/200 \n",
      "Current Batch Loss 1.9999361038208008\n",
      "\n",
      "Epoch 8/10  Batch 130/200 \n",
      "Current Batch Loss 1.9999361038208008\n",
      "\n",
      "Epoch 8/10  Batch 140/200 \n",
      "Current Batch Loss 2.2499279975891113\n",
      "\n",
      "Epoch 8/10  Batch 150/200 \n",
      "Current Batch Loss 2.999903678894043\n",
      "\n",
      "Epoch 8/10  Batch 160/200 \n",
      "Current Batch Loss 2.2499279975891113\n",
      "\n",
      "Epoch 8/10  Batch 170/200 \n",
      "Current Batch Loss 1.2499600648880005\n",
      "\n",
      "Epoch 8/10  Batch 180/200 \n",
      "Current Batch Loss 2.499919891357422\n",
      "\n",
      "Epoch 8/10  Batch 190/200 \n",
      "Current Batch Loss 0.9999680519104004\n",
      "\n",
      "Epoch 8/10  Batch 200/200 \n",
      "Current Batch Loss 1.7499440908432007\n",
      "\n",
      "==> Epoch 8/10 Epoch Loss 0.12499598413705826\n",
      "### Epoch Loss did not improve\n",
      "\n"
     ]
    },
    {
     "data": {
      "image/png": "[encoded data removed]",
      "text/plain": [
       "<Figure size 432x288 with 1 Axes>"
      ]
     },
     "metadata": {
      "needs_background": "light"
     },
     "output_type": "display_data"
    },
    {
     "name": "stdout",
     "output_type": "stream",
     "text": [
      "Epoch 9/10  Batch 10/200 \n",
      "Current Batch Loss 1.7499440908432007\n",
      "\n",
      "Epoch 9/10  Batch 20/200 \n",
      "Current Batch Loss 1.7499440908432007\n",
      "\n",
      "Epoch 9/10  Batch 30/200 \n",
      "Current Batch Loss 1.9999361038208008\n",
      "\n",
      "Epoch 9/10  Batch 40/200 \n",
      "Current Batch Loss 1.4999520778656006\n",
      "\n",
      "Epoch 9/10  Batch 50/200 \n",
      "Current Batch Loss 2.2499279975891113\n",
      "\n",
      "Epoch 9/10  Batch 60/200 \n",
      "Current Batch Loss 1.7499440908432007\n",
      "\n",
      "Epoch 9/10  Batch 70/200 \n",
      "Current Batch Loss 1.9999361038208008\n",
      "\n",
      "Epoch 9/10  Batch 80/200 \n",
      "Current Batch Loss 2.2499279975891113\n",
      "\n",
      "Epoch 9/10  Batch 90/200 \n",
      "Current Batch Loss 0.9999680519104004\n",
      "\n",
      "Epoch 9/10  Batch 100/200 \n",
      "Current Batch Loss 2.2499279975891113\n",
      "\n",
      "Epoch 9/10  Batch 110/200 \n",
      "Current Batch Loss 2.499919891357422\n",
      "\n",
      "Epoch 9/10  Batch 120/200 \n",
      "Current Batch Loss 2.2499279975891113\n",
      "\n",
      "Epoch 9/10  Batch 130/200 \n",
      "Current Batch Loss 1.9999361038208008\n",
      "\n",
      "Epoch 9/10  Batch 140/200 \n",
      "Current Batch Loss 1.9999361038208008\n",
      "\n",
      "Epoch 9/10  Batch 150/200 \n",
      "Current Batch Loss 2.2499279975891113\n",
      "\n",
      "Epoch 9/10  Batch 160/200 \n",
      "Current Batch Loss 1.2499600648880005\n",
      "\n",
      "Epoch 9/10  Batch 170/200 \n",
      "Current Batch Loss 1.9999361038208008\n",
      "\n",
      "Epoch 9/10  Batch 180/200 \n",
      "Current Batch Loss 2.499919891357422\n",
      "\n",
      "Epoch 9/10  Batch 190/200 \n",
      "Current Batch Loss 1.2499600648880005\n",
      "\n",
      "Epoch 9/10  Batch 200/200 \n",
      "Current Batch Loss 2.499919891357422\n",
      "\n",
      "==> Epoch 9/10 Epoch Loss 0.12499598413705826\n",
      "### Epoch Loss did not improve\n",
      "\n"
     ]
    },
    {
     "data": {
      "image/png": "[encoded data removed]",
      "text/plain": [
       "<Figure size 432x288 with 1 Axes>"
      ]
     },
     "metadata": {
      "needs_background": "light"
     },
     "output_type": "display_data"
    },
    {
     "name": "stdout",
     "output_type": "stream",
     "text": [
      "Epoch 10/10  Batch 10/200 \n",
      "Current Batch Loss 1.7499440908432007\n",
      "\n",
      "Epoch 10/10  Batch 20/200 \n",
      "Current Batch Loss 2.2499279975891113\n",
      "\n",
      "Epoch 10/10  Batch 30/200 \n",
      "Current Batch Loss 2.499919891357422\n",
      "\n",
      "Epoch 10/10  Batch 40/200 \n",
      "Current Batch Loss 1.7499440908432007\n",
      "\n",
      "Epoch 10/10  Batch 50/200 \n",
      "Current Batch Loss 1.4999520778656006\n",
      "\n",
      "Epoch 10/10  Batch 60/200 \n",
      "Current Batch Loss 2.7499117851257324\n",
      "\n",
      "Epoch 10/10  Batch 70/200 \n",
      "Current Batch Loss 1.2499600648880005\n",
      "\n",
      "Epoch 10/10  Batch 80/200 \n",
      "Current Batch Loss 1.7499440908432007\n",
      "\n",
      "Epoch 10/10  Batch 90/200 \n",
      "Current Batch Loss 1.9999361038208008\n",
      "\n",
      "Epoch 10/10  Batch 100/200 \n",
      "Current Batch Loss 2.499919891357422\n",
      "\n",
      "Epoch 10/10  Batch 110/200 \n",
      "Current Batch Loss 2.7499117851257324\n",
      "\n",
      "Epoch 10/10  Batch 120/200 \n",
      "Current Batch Loss 2.2499279975891113\n",
      "\n",
      "Epoch 10/10  Batch 130/200 \n",
      "Current Batch Loss 2.7499117851257324\n",
      "\n",
      "Epoch 10/10  Batch 140/200 \n",
      "Current Batch Loss 1.7499440908432007\n",
      "\n",
      "Epoch 10/10  Batch 150/200 \n",
      "Current Batch Loss 1.7499440908432007\n",
      "\n",
      "Epoch 10/10  Batch 160/200 \n",
      "Current Batch Loss 2.499919891357422\n",
      "\n",
      "Epoch 10/10  Batch 170/200 \n",
      "Current Batch Loss 1.4999520778656006\n",
      "\n",
      "Epoch 10/10  Batch 180/200 \n",
      "Current Batch Loss 2.2499279975891113\n",
      "\n",
      "Epoch 10/10  Batch 190/200 \n",
      "Current Batch Loss 1.9999361038208008\n",
      "\n",
      "Epoch 10/10  Batch 200/200 \n",
      "Current Batch Loss 1.2499600648880005\n",
      "\n",
      "==> Epoch 10/10 Epoch Loss 0.12499592453241348\n",
      "### Epoch Loss did not improve\n",
      "\n"
     ]
    },
    {
     "data": {
      "image/png": "[encoded data removed]",
      "text/plain": [
       "<Figure size 432x288 with 1 Axes>"
      ]
     },
     "metadata": {
      "needs_background": "light"
     },
     "output_type": "display_data"
    }
   ],
   "source": [
    "for epoch in range(1, N_EPOCHS+1):\n",
    "    running_loss = torch.zeros(1)\n",
    "    \n",
    "    for i_batch, data in enumerate(train_dataloader, 1):\n",
    "        mfcc1, mfcc2, label = data['spec1'], data['spec2'], data['label']\n",
    "        mfcc1 = Variable(mfcc1.float(), requires_grad=True).to(device)\n",
    "        mfcc2 = Variable(mfcc2.float(), requires_grad=True).to(device)\n",
    "        label = Variable(label.float(), requires_grad=True).to(device)\n",
    "                \n",
    "        output1, output2 = model(mfcc1.float(), mfcc2.float())\n",
    "        \n",
    "        optimizer.zero_grad()\n",
    "\n",
    "        loss = criterion(output1, output2, label.float())\n",
    "        \n",
    "#         assert mfcc1.dim() == mfcc2.dim() == 4        \n",
    "#         assert output1.dim() == output2.dim() == 2\n",
    "#         assert loss.requires_grad and output1.requires_grad and output2.requires_grad\n",
    "#         assert loss.grad_fn is not None and output1.grad_fn is not None and output2.grad_fn is not None \n",
    "        \n",
    "#         print(\"loss\", loss, loss.requires_grad, loss.grad_fn)\n",
    "#         print(\"output1\", output1.shape, output1.requires_grad, output1.grad_fn, output1.device)\n",
    "#         print(\"output2\", output2.shape, output2.requires_grad, output2.grad_fn, output2.device)\n",
    "\n",
    "        loss.backward()\n",
    "            \n",
    "#         assert mfcc1.requires_grad and mfcc2.requires_grad                \n",
    "#         for name, param in model.named_parameters():\n",
    "#             assert param.requires_grad and param.grad is not None, (name, param.requires_grad, param.grad)\n",
    "\n",
    "        optimizer.step()\n",
    "\n",
    "        loss_list.append(loss.item())\n",
    "        running_loss += loss.item()\n",
    "        if i_batch % int(n_batches/20) == 0:\n",
    "            print(\"Epoch {}/{}  Batch {}/{} \\nCurrent Batch Loss {}\\n\".format(epoch, N_EPOCHS, i_batch, n_batches, loss.item()))\n",
    "        \n",
    "    epoch_loss = running_loss / len(voxceleb_dataset)\n",
    "    print(\"==> Epoch {}/{} Epoch Loss {}\".format(epoch, N_EPOCHS, epoch_loss.item()))\n",
    "\n",
    "    is_best = epoch_loss < best_loss\n",
    "    if is_best:\n",
    "        best_loss = epoch_loss\n",
    "        \n",
    "        save_checkpoint({'epoch': epoch,\n",
    "                         'state_dict': model.state_dict(),\n",
    "                         'optim_dict': optimizer.state_dict()},\n",
    "                        loss=epoch_loss)\n",
    "    else:\n",
    "        print(\"### Epoch Loss did not improve\\n\")\n",
    "    \n",
    "    plt.plot(loss_list[50:])\n",
    "    plt.show()"
   ]
  },
  {
   "cell_type": "code",
   "execution_count": 15,
   "metadata": {
    "colab": {
     "base_uri": "https://localhost:8080/",
     "height": 585
    },
    "colab_type": "code",
    "id": "o_8nmcBcIPJw",
    "outputId": "f94a84f1-710b-4d93-af4b-0f887668f53a"
   },
   "outputs": [
    {
     "data": {
      "text/plain": [
       "[<matplotlib.lines.Line2D at 0x7f4120048cf8>]"
      ]
     },
     "execution_count": 15,
     "metadata": {},
     "output_type": "execute_result"
    },
    {
     "data": {
      "image/png": "[encoded data removed]",
      "text/plain": [
       "<Figure size 432x288 with 1 Axes>"
      ]
     },
     "metadata": {
      "needs_background": "light"
     },
     "output_type": "display_data"
    }
   ],
   "source": [
    "plt.plot(loss_list[100:])"
   ]
  },
  {
   "cell_type": "code",
   "execution_count": null,
   "metadata": {
    "colab": {},
    "colab_type": "code",
    "id": "OAHMSoKDNKrd"
   },
   "outputs": [],
   "source": []
  },
  {
   "cell_type": "code",
   "execution_count": null,
   "metadata": {
    "colab": {},
    "colab_type": "code",
    "id": "qKzVCuTsQhO0"
   },
   "outputs": [],
   "source": [
    "load_saved_model()"
   ]
  }
 ],
 "metadata": {
  "accelerator": "GPU",
  "colab": {
   "collapsed_sections": [],
   "name": "ML_Part_final.ipynb",
   "provenance": [],
   "version": "0.3.2"
  },
  "kernelspec": {
   "display_name": "mlsp",
   "language": "python",
   "name": "mlsp"
  },
  "language_info": {
   "codemirror_mode": {
    "name": "ipython",
    "version": 3
   },
   "file_extension": ".py",
   "mimetype": "text/x-python",
   "name": "python",
   "nbconvert_exporter": "python",
   "pygments_lexer": "ipython3",
   "version": "3.6.6"
  }
 },
 "nbformat": 4,
 "nbformat_minor": 2
}
